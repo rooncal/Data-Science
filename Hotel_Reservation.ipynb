{
  "nbformat": 4,
  "nbformat_minor": 0,
  "metadata": {
    "colab": {
      "name": "Hotel-Reservation.ipynb",
      "provenance": [],
      "collapsed_sections": [],
      "authorship_tag": "ABX9TyMctV5e3Bn3SHAEpINddPXr",
      "include_colab_link": true
    },
    "kernelspec": {
      "name": "python3",
      "display_name": "Python 3"
    }
  },
  "cells": [
    {
      "cell_type": "markdown",
      "metadata": {
        "id": "view-in-github",
        "colab_type": "text"
      },
      "source": [
        "<a href=\"https://colab.research.google.com/github/rooncal/Data-Science/blob/main/Hotel_Reservation.ipynb\" target=\"_parent\"><img src=\"https://colab.research.google.com/assets/colab-badge.svg\" alt=\"Open In Colab\"/></a>"
      ]
    },
    {
      "cell_type": "markdown",
      "metadata": {
        "id": "IYBWc20oVfiY"
      },
      "source": [
        "Imports and settings"
      ]
    },
    {
      "cell_type": "code",
      "metadata": {
        "id": "y93RkyYp7WN7"
      },
      "source": [
        "import pandas as pd\r\n",
        "import matplotlib.pyplot as plt\r\n",
        "import seaborn as sns"
      ],
      "execution_count": null,
      "outputs": []
    },
    {
      "cell_type": "code",
      "metadata": {
        "id": "w-0hwEzMVddp"
      },
      "source": [
        "pd.options.display.max_colwidth = 999"
      ],
      "execution_count": null,
      "outputs": []
    },
    {
      "cell_type": "markdown",
      "metadata": {
        "id": "RaLIgilP8KaD"
      },
      "source": [
        "Understanding the dataset"
      ]
    },
    {
      "cell_type": "code",
      "metadata": {
        "id": "k_NSKYjr8P2r"
      },
      "source": [
        "df = pd.read_csv('Hotel-A-train.csv')"
      ],
      "execution_count": null,
      "outputs": []
    },
    {
      "cell_type": "code",
      "metadata": {
        "colab": {
          "base_uri": "https://localhost:8080/",
          "height": 190
        },
        "id": "wG6t1_hFKTQL",
        "outputId": "7e66a9af-3ba7-40c5-8f51-a6c44dcb3de5"
      },
      "source": [
        "df.head(3)"
      ],
      "execution_count": null,
      "outputs": [
        {
          "output_type": "execute_result",
          "data": {
            "text/html": [
              "<div>\n",
              "<style scoped>\n",
              "    .dataframe tbody tr th:only-of-type {\n",
              "        vertical-align: middle;\n",
              "    }\n",
              "\n",
              "    .dataframe tbody tr th {\n",
              "        vertical-align: top;\n",
              "    }\n",
              "\n",
              "    .dataframe thead th {\n",
              "        text-align: right;\n",
              "    }\n",
              "</style>\n",
              "<table border=\"1\" class=\"dataframe\">\n",
              "  <thead>\n",
              "    <tr style=\"text-align: right;\">\n",
              "      <th></th>\n",
              "      <th>Reservation-id</th>\n",
              "      <th>Gender</th>\n",
              "      <th>Age</th>\n",
              "      <th>Ethnicity</th>\n",
              "      <th>Educational_Level</th>\n",
              "      <th>Income</th>\n",
              "      <th>Country_region</th>\n",
              "      <th>Hotel_Type</th>\n",
              "      <th>Expected_checkin</th>\n",
              "      <th>Expected_checkout</th>\n",
              "      <th>Booking_date</th>\n",
              "      <th>Adults</th>\n",
              "      <th>Children</th>\n",
              "      <th>Babies</th>\n",
              "      <th>Meal_Type</th>\n",
              "      <th>Visted_Previously</th>\n",
              "      <th>Previous_Cancellations</th>\n",
              "      <th>Deposit_type</th>\n",
              "      <th>Booking_channel</th>\n",
              "      <th>Required_Car_Parking</th>\n",
              "      <th>Reservation_Status</th>\n",
              "      <th>Use_Promotion</th>\n",
              "      <th>Discount_Rate</th>\n",
              "      <th>Room_Rate</th>\n",
              "    </tr>\n",
              "  </thead>\n",
              "  <tbody>\n",
              "    <tr>\n",
              "      <th>0</th>\n",
              "      <td>39428300</td>\n",
              "      <td>F</td>\n",
              "      <td>40</td>\n",
              "      <td>Latino</td>\n",
              "      <td>Grad</td>\n",
              "      <td>&lt;25K</td>\n",
              "      <td>North</td>\n",
              "      <td>City Hotel</td>\n",
              "      <td>7/1/2015</td>\n",
              "      <td>7/2/2015</td>\n",
              "      <td>5/21/2015</td>\n",
              "      <td>2</td>\n",
              "      <td>2</td>\n",
              "      <td>0</td>\n",
              "      <td>BB</td>\n",
              "      <td>No</td>\n",
              "      <td>No</td>\n",
              "      <td>No Deposit</td>\n",
              "      <td>Online</td>\n",
              "      <td>Yes</td>\n",
              "      <td>Check-In</td>\n",
              "      <td>Yes</td>\n",
              "      <td>10</td>\n",
              "      <td>218</td>\n",
              "    </tr>\n",
              "    <tr>\n",
              "      <th>1</th>\n",
              "      <td>77491756</td>\n",
              "      <td>F</td>\n",
              "      <td>49</td>\n",
              "      <td>Latino</td>\n",
              "      <td>Mid-School</td>\n",
              "      <td>50K -- 100K</td>\n",
              "      <td>East</td>\n",
              "      <td>City Hotel</td>\n",
              "      <td>7/1/2015</td>\n",
              "      <td>7/2/2015</td>\n",
              "      <td>5/26/2015</td>\n",
              "      <td>3</td>\n",
              "      <td>3</td>\n",
              "      <td>0</td>\n",
              "      <td>BB</td>\n",
              "      <td>No</td>\n",
              "      <td>No</td>\n",
              "      <td>Refundable</td>\n",
              "      <td>Online</td>\n",
              "      <td>Yes</td>\n",
              "      <td>Check-In</td>\n",
              "      <td>No</td>\n",
              "      <td>0</td>\n",
              "      <td>185</td>\n",
              "    </tr>\n",
              "    <tr>\n",
              "      <th>2</th>\n",
              "      <td>73747291</td>\n",
              "      <td>F</td>\n",
              "      <td>42</td>\n",
              "      <td>caucasian</td>\n",
              "      <td>Grad</td>\n",
              "      <td>&lt;25K</td>\n",
              "      <td>East</td>\n",
              "      <td>City Hotel</td>\n",
              "      <td>7/2/2015</td>\n",
              "      <td>7/6/2015</td>\n",
              "      <td>6/29/2015</td>\n",
              "      <td>3</td>\n",
              "      <td>3</td>\n",
              "      <td>0</td>\n",
              "      <td>BB</td>\n",
              "      <td>No</td>\n",
              "      <td>No</td>\n",
              "      <td>No Deposit</td>\n",
              "      <td>Online</td>\n",
              "      <td>Yes</td>\n",
              "      <td>Check-In</td>\n",
              "      <td>No</td>\n",
              "      <td>0</td>\n",
              "      <td>119</td>\n",
              "    </tr>\n",
              "  </tbody>\n",
              "</table>\n",
              "</div>"
            ],
            "text/plain": [
              "   Reservation-id Gender  Age  ... Use_Promotion Discount_Rate Room_Rate\n",
              "0        39428300      F   40  ...           Yes            10       218\n",
              "1        77491756      F   49  ...            No             0       185\n",
              "2        73747291      F   42  ...            No             0       119\n",
              "\n",
              "[3 rows x 24 columns]"
            ]
          },
          "metadata": {
            "tags": []
          },
          "execution_count": 7
        }
      ]
    },
    {
      "cell_type": "code",
      "metadata": {
        "colab": {
          "base_uri": "https://localhost:8080/",
          "height": 321
        },
        "id": "8eqhnqGRK6ej",
        "outputId": "1e58f5d1-9735-4068-bff2-daeae7c5c93f"
      },
      "source": [
        "df.describe()"
      ],
      "execution_count": null,
      "outputs": [
        {
          "output_type": "execute_result",
          "data": {
            "text/html": [
              "<div>\n",
              "<style scoped>\n",
              "    .dataframe tbody tr th:only-of-type {\n",
              "        vertical-align: middle;\n",
              "    }\n",
              "\n",
              "    .dataframe tbody tr th {\n",
              "        vertical-align: top;\n",
              "    }\n",
              "\n",
              "    .dataframe thead th {\n",
              "        text-align: right;\n",
              "    }\n",
              "</style>\n",
              "<table border=\"1\" class=\"dataframe\">\n",
              "  <thead>\n",
              "    <tr style=\"text-align: right;\">\n",
              "      <th></th>\n",
              "      <th>Reservation-id</th>\n",
              "      <th>Age</th>\n",
              "      <th>Adults</th>\n",
              "      <th>Children</th>\n",
              "      <th>Babies</th>\n",
              "      <th>Discount_Rate</th>\n",
              "      <th>Room_Rate</th>\n",
              "    </tr>\n",
              "  </thead>\n",
              "  <tbody>\n",
              "    <tr>\n",
              "      <th>count</th>\n",
              "      <td>2.749900e+04</td>\n",
              "      <td>27499.000000</td>\n",
              "      <td>27499.000000</td>\n",
              "      <td>27499.000000</td>\n",
              "      <td>27499.000000</td>\n",
              "      <td>27499.000000</td>\n",
              "      <td>27499.000000</td>\n",
              "    </tr>\n",
              "    <tr>\n",
              "      <th>mean</th>\n",
              "      <td>5.016461e+07</td>\n",
              "      <td>43.977454</td>\n",
              "      <td>2.333576</td>\n",
              "      <td>1.743882</td>\n",
              "      <td>0.351540</td>\n",
              "      <td>12.495182</td>\n",
              "      <td>175.136478</td>\n",
              "    </tr>\n",
              "    <tr>\n",
              "      <th>std</th>\n",
              "      <td>2.886911e+07</td>\n",
              "      <td>15.303148</td>\n",
              "      <td>1.176526</td>\n",
              "      <td>0.721972</td>\n",
              "      <td>0.573326</td>\n",
              "      <td>11.206036</td>\n",
              "      <td>43.877087</td>\n",
              "    </tr>\n",
              "    <tr>\n",
              "      <th>min</th>\n",
              "      <td>3.154000e+03</td>\n",
              "      <td>18.000000</td>\n",
              "      <td>1.000000</td>\n",
              "      <td>1.000000</td>\n",
              "      <td>0.000000</td>\n",
              "      <td>0.000000</td>\n",
              "      <td>100.000000</td>\n",
              "    </tr>\n",
              "    <tr>\n",
              "      <th>25%</th>\n",
              "      <td>2.523943e+07</td>\n",
              "      <td>31.000000</td>\n",
              "      <td>2.000000</td>\n",
              "      <td>1.000000</td>\n",
              "      <td>0.000000</td>\n",
              "      <td>5.000000</td>\n",
              "      <td>137.000000</td>\n",
              "    </tr>\n",
              "    <tr>\n",
              "      <th>50%</th>\n",
              "      <td>5.014996e+07</td>\n",
              "      <td>44.000000</td>\n",
              "      <td>2.000000</td>\n",
              "      <td>2.000000</td>\n",
              "      <td>0.000000</td>\n",
              "      <td>10.000000</td>\n",
              "      <td>175.000000</td>\n",
              "    </tr>\n",
              "    <tr>\n",
              "      <th>75%</th>\n",
              "      <td>7.518288e+07</td>\n",
              "      <td>57.000000</td>\n",
              "      <td>3.000000</td>\n",
              "      <td>2.000000</td>\n",
              "      <td>1.000000</td>\n",
              "      <td>20.000000</td>\n",
              "      <td>214.000000</td>\n",
              "    </tr>\n",
              "    <tr>\n",
              "      <th>max</th>\n",
              "      <td>9.999900e+07</td>\n",
              "      <td>70.000000</td>\n",
              "      <td>5.000000</td>\n",
              "      <td>3.000000</td>\n",
              "      <td>2.000000</td>\n",
              "      <td>40.000000</td>\n",
              "      <td>250.000000</td>\n",
              "    </tr>\n",
              "  </tbody>\n",
              "</table>\n",
              "</div>"
            ],
            "text/plain": [
              "       Reservation-id           Age  ...  Discount_Rate     Room_Rate\n",
              "count    2.749900e+04  27499.000000  ...   27499.000000  27499.000000\n",
              "mean     5.016461e+07     43.977454  ...      12.495182    175.136478\n",
              "std      2.886911e+07     15.303148  ...      11.206036     43.877087\n",
              "min      3.154000e+03     18.000000  ...       0.000000    100.000000\n",
              "25%      2.523943e+07     31.000000  ...       5.000000    137.000000\n",
              "50%      5.014996e+07     44.000000  ...      10.000000    175.000000\n",
              "75%      7.518288e+07     57.000000  ...      20.000000    214.000000\n",
              "max      9.999900e+07     70.000000  ...      40.000000    250.000000\n",
              "\n",
              "[8 rows x 7 columns]"
            ]
          },
          "metadata": {
            "tags": []
          },
          "execution_count": 5
        }
      ]
    },
    {
      "cell_type": "code",
      "metadata": {
        "colab": {
          "base_uri": "https://localhost:8080/"
        },
        "id": "XD0ZqLDbLISo",
        "outputId": "17eb412d-2b9f-436b-9c1c-d37f04a15ee7"
      },
      "source": [
        "df.dtypes"
      ],
      "execution_count": null,
      "outputs": [
        {
          "output_type": "execute_result",
          "data": {
            "text/plain": [
              "Reservation-id             int64\n",
              "Gender                    object\n",
              "Age                        int64\n",
              "Ethnicity                 object\n",
              "Educational_Level         object\n",
              "Income                    object\n",
              "Country_region            object\n",
              "Hotel_Type                object\n",
              "Expected_checkin          object\n",
              "Expected_checkout         object\n",
              "Booking_date              object\n",
              "Adults                     int64\n",
              "Children                   int64\n",
              "Babies                     int64\n",
              "Meal_Type                 object\n",
              "Visted_Previously         object\n",
              "Previous_Cancellations    object\n",
              "Deposit_type              object\n",
              "Booking_channel           object\n",
              "Required_Car_Parking      object\n",
              "Reservation_Status        object\n",
              "Use_Promotion             object\n",
              "Discount_Rate              int64\n",
              "Room_Rate                  int64\n",
              "dtype: object"
            ]
          },
          "metadata": {
            "tags": []
          },
          "execution_count": 8
        }
      ]
    },
    {
      "cell_type": "code",
      "metadata": {
        "id": "SrhdT_CvMEXJ"
      },
      "source": [
        "dictionary_df = pd.read_csv('Hotel-A-data-dictionary.csv')"
      ],
      "execution_count": null,
      "outputs": []
    },
    {
      "cell_type": "code",
      "metadata": {
        "colab": {
          "base_uri": "https://localhost:8080/",
          "height": 993
        },
        "id": "xz4VJLkLShvO",
        "outputId": "7bcbc3ad-f6c8-4ab5-b647-0dff3cf46bda"
      },
      "source": [
        "dictionary_df"
      ],
      "execution_count": null,
      "outputs": [
        {
          "output_type": "execute_result",
          "data": {
            "text/html": [
              "<div>\n",
              "<style scoped>\n",
              "    .dataframe tbody tr th:only-of-type {\n",
              "        vertical-align: middle;\n",
              "    }\n",
              "\n",
              "    .dataframe tbody tr th {\n",
              "        vertical-align: top;\n",
              "    }\n",
              "\n",
              "    .dataframe thead th {\n",
              "        text-align: right;\n",
              "    }\n",
              "</style>\n",
              "<table border=\"1\" class=\"dataframe\">\n",
              "  <thead>\n",
              "    <tr style=\"text-align: right;\">\n",
              "      <th></th>\n",
              "      <th>Data Field</th>\n",
              "      <th>Description</th>\n",
              "    </tr>\n",
              "  </thead>\n",
              "  <tbody>\n",
              "    <tr>\n",
              "      <th>0</th>\n",
              "      <td>Reservation-id</td>\n",
              "      <td>A unique booking id</td>\n",
              "    </tr>\n",
              "    <tr>\n",
              "      <th>1</th>\n",
              "      <td>Gender</td>\n",
              "      <td>Gender of the reservation person</td>\n",
              "    </tr>\n",
              "    <tr>\n",
              "      <th>2</th>\n",
              "      <td>Age</td>\n",
              "      <td>Age of the reservation person. Age is varying from 18 -- 70</td>\n",
              "    </tr>\n",
              "    <tr>\n",
              "      <th>3</th>\n",
              "      <td>Ethnicity</td>\n",
              "      <td>Ethnicity of the reservation person. This field takes one of the following ethnicities: Latino, African American, Asian American and Caucasian</td>\n",
              "    </tr>\n",
              "    <tr>\n",
              "      <th>4</th>\n",
              "      <td>Educational_Level</td>\n",
              "      <td>Educational level of the reservation person. This field takes one of the following educational level; Mid-School, High-School, College and Grad</td>\n",
              "    </tr>\n",
              "    <tr>\n",
              "      <th>5</th>\n",
              "      <td>Income</td>\n",
              "      <td>Income of the reservation person. This field takes one of the following: &lt;25K, 25K – 50K,50K – 100K and &gt;100K</td>\n",
              "    </tr>\n",
              "    <tr>\n",
              "      <th>6</th>\n",
              "      <td>Country_region</td>\n",
              "      <td>Country region of the reservation person. This field takes one of the following: North, South, East and West</td>\n",
              "    </tr>\n",
              "    <tr>\n",
              "      <th>7</th>\n",
              "      <td>Hotel_Type</td>\n",
              "      <td>Hotel type of the reservation; i.e City Hotels, Airport Hotels and Resorts</td>\n",
              "    </tr>\n",
              "    <tr>\n",
              "      <th>8</th>\n",
              "      <td>Expected_checkin</td>\n",
              "      <td>Expected check-in date</td>\n",
              "    </tr>\n",
              "    <tr>\n",
              "      <th>9</th>\n",
              "      <td>Expected_checkout</td>\n",
              "      <td>Expected checkout date</td>\n",
              "    </tr>\n",
              "    <tr>\n",
              "      <th>10</th>\n",
              "      <td>Booking_date</td>\n",
              "      <td>Reservation date</td>\n",
              "    </tr>\n",
              "    <tr>\n",
              "      <th>11</th>\n",
              "      <td>Adults</td>\n",
              "      <td>Number of adults in the reservation. Note that one room can accommodate up to 5 people including children (Except babies)</td>\n",
              "    </tr>\n",
              "    <tr>\n",
              "      <th>12</th>\n",
              "      <td>Children</td>\n",
              "      <td>Number of children in the reservation</td>\n",
              "    </tr>\n",
              "    <tr>\n",
              "      <th>13</th>\n",
              "      <td>Babies</td>\n",
              "      <td>Number of babies in the reservation</td>\n",
              "    </tr>\n",
              "    <tr>\n",
              "      <th>14</th>\n",
              "      <td>Meal_Type</td>\n",
              "      <td>Selected meal type. Meal type can be one of the following: Bed and Break first (BB), Half-board (HB) or Full Board (FB)</td>\n",
              "    </tr>\n",
              "    <tr>\n",
              "      <th>15</th>\n",
              "      <td>Visted_Previously</td>\n",
              "      <td>Have previous reservation</td>\n",
              "    </tr>\n",
              "    <tr>\n",
              "      <th>16</th>\n",
              "      <td>Previous_Cancellations</td>\n",
              "      <td>Whether the travel cancel any reservations</td>\n",
              "    </tr>\n",
              "    <tr>\n",
              "      <th>17</th>\n",
              "      <td>Deposit_type</td>\n",
              "      <td>Did traveler pay refundable full payment, non-refundable full payment or not</td>\n",
              "    </tr>\n",
              "    <tr>\n",
              "      <th>18</th>\n",
              "      <td>Booking_channel</td>\n",
              "      <td>Field tell the way the traveler booked the reservation.  It takes one of the following; Direct (i.e from by direct call to the hotel or from hotel website), Online (From any Third party website or using any agent</td>\n",
              "    </tr>\n",
              "    <tr>\n",
              "      <th>19</th>\n",
              "      <td>Required_Car_Parking</td>\n",
              "      <td>Any car parking reservations need</td>\n",
              "    </tr>\n",
              "    <tr>\n",
              "      <th>20</th>\n",
              "      <td>Reservation_Status</td>\n",
              "      <td>What is the final status of the reservation. Use the check-in as class 1, cancel as class 2 and no-show as class 3 ( use numeric value 1, 2 and 3)</td>\n",
              "    </tr>\n",
              "    <tr>\n",
              "      <th>21</th>\n",
              "      <td>Use_Promotion</td>\n",
              "      <td>Did travel use any promo codes/discounts for the reservations</td>\n",
              "    </tr>\n",
              "    <tr>\n",
              "      <th>22</th>\n",
              "      <td>Discount_Rate</td>\n",
              "      <td>Discount rate if any</td>\n",
              "    </tr>\n",
              "    <tr>\n",
              "      <th>23</th>\n",
              "      <td>Room_Rate</td>\n",
              "      <td>Room rate for a room per night</td>\n",
              "    </tr>\n",
              "  </tbody>\n",
              "</table>\n",
              "</div>"
            ],
            "text/plain": [
              "                Data Field                                                                                                                                                                                                           Description\n",
              "0           Reservation-id                                                                                                                                                                                                   A unique booking id\n",
              "1                   Gender                                                                                                                                                                                      Gender of the reservation person\n",
              "2                      Age                                                                                                                                                           Age of the reservation person. Age is varying from 18 -- 70\n",
              "3                Ethnicity                                                                        Ethnicity of the reservation person. This field takes one of the following ethnicities: Latino, African American, Asian American and Caucasian\n",
              "4        Educational_Level                                                                       Educational level of the reservation person. This field takes one of the following educational level; Mid-School, High-School, College and Grad\n",
              "5                   Income                                                                                                        Income of the reservation person. This field takes one of the following: <25K, 25K – 50K,50K – 100K and >100K \n",
              "6           Country_region                                                                                                          Country region of the reservation person. This field takes one of the following: North, South, East and West\n",
              "7               Hotel_Type                                                                                                                                            Hotel type of the reservation; i.e City Hotels, Airport Hotels and Resorts\n",
              "8         Expected_checkin                                                                                                                                                                                                Expected check-in date\n",
              "9        Expected_checkout                                                                                                                                                                                                Expected checkout date\n",
              "10            Booking_date                                                                                                                                                                                                      Reservation date\n",
              "11                  Adults                                                                                             Number of adults in the reservation. Note that one room can accommodate up to 5 people including children (Except babies)\n",
              "12                Children                                                                                                                                                                                 Number of children in the reservation\n",
              "13                  Babies                                                                                                                                                                                   Number of babies in the reservation\n",
              "14               Meal_Type                                                                                               Selected meal type. Meal type can be one of the following: Bed and Break first (BB), Half-board (HB) or Full Board (FB)\n",
              "15       Visted_Previously                                                                                                                                                                                            Have previous reservation \n",
              "16  Previous_Cancellations                                                                                                                                                                            Whether the travel cancel any reservations\n",
              "17            Deposit_type                                                                                                                                          Did traveler pay refundable full payment, non-refundable full payment or not\n",
              "18         Booking_channel  Field tell the way the traveler booked the reservation.  It takes one of the following; Direct (i.e from by direct call to the hotel or from hotel website), Online (From any Third party website or using any agent\n",
              "19    Required_Car_Parking                                                                                                                                                                                     Any car parking reservations need\n",
              "20      Reservation_Status                                                                    What is the final status of the reservation. Use the check-in as class 1, cancel as class 2 and no-show as class 3 ( use numeric value 1, 2 and 3)\n",
              "21           Use_Promotion                                                                                                                                                         Did travel use any promo codes/discounts for the reservations\n",
              "22           Discount_Rate                                                                                                                                                                                                  Discount rate if any\n",
              "23               Room_Rate                                                                                                                                                                                        Room rate for a room per night"
            ]
          },
          "metadata": {
            "tags": []
          },
          "execution_count": 29
        }
      ]
    },
    {
      "cell_type": "code",
      "metadata": {
        "colab": {
          "base_uri": "https://localhost:8080/",
          "height": 314
        },
        "id": "2fJX_D0CVTLr",
        "outputId": "b50b5e4f-7140-46ce-bc70-d8d3e1a0b2ed"
      },
      "source": [
        "df.hist(column=\"Babies\", bins=100)"
      ],
      "execution_count": null,
      "outputs": [
        {
          "output_type": "execute_result",
          "data": {
            "text/plain": [
              "array([[<matplotlib.axes._subplots.AxesSubplot object at 0x7f03e0210090>]],\n",
              "      dtype=object)"
            ]
          },
          "metadata": {
            "tags": []
          },
          "execution_count": 48
        },
        {
          "output_type": "display_data",
          "data": {
            "image/png": "[encoded data removed]",
            "text/plain": [
              "<Figure size 432x288 with 1 Axes>"
            ]
          },
          "metadata": {
            "tags": [],
            "needs_background": "light"
          }
        }
      ]
    },
    {
      "cell_type": "code",
      "metadata": {
        "colab": {
          "base_uri": "https://localhost:8080/",
          "height": 843
        },
        "id": "CvFdPV28XD2l",
        "outputId": "338a5179-d839-4c7f-e3fd-66acbc729581"
      },
      "source": [
        "plt.figure(figsize=(20,14))\r\n",
        "sns.countplot(x='Age',data = df, hue = 'Reservation_Status',palette='GnBu')\r\n",
        "plt.show()"
      ],
      "execution_count": null,
      "outputs": [
        {
          "output_type": "display_data",
          "data": {
            "image/png": "[encoded data removed]",
            "text/plain": [
              "<Figure size 1440x1008 with 1 Axes>"
            ]
          },
          "metadata": {
            "tags": [],
            "needs_background": "light"
          }
        }
      ]
    },
    {
      "cell_type": "code",
      "metadata": {
        "id": "1TPmyWjQY9Ft"
      },
      "source": [
        ""
      ],
      "execution_count": null,
      "outputs": []
    }
  ]
}